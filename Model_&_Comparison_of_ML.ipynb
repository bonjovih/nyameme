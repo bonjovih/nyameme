{
  "nbformat": 4,
  "nbformat_minor": 0,
  "metadata": {
    "colab": {
      "name": "Model & Comparison of ML.ipynb",
      "provenance": [],
      "authorship_tag": "ABX9TyOzx1JGI5n0hvhdx6trTCtZ",
      "include_colab_link": true
    },
    "kernelspec": {
      "name": "python3",
      "display_name": "Python 3"
    },
    "language_info": {
      "name": "python"
    }
  },
  "cells": [
    {
      "cell_type": "markdown",
      "metadata": {
        "id": "view-in-github",
        "colab_type": "text"
      },
      "source": [
        "<a href=\"https://colab.research.google.com/github/bonjovih/nyameme/blob/master/Model_%26_Comparison_of_ML.ipynb\" target=\"_parent\"><img src=\"https://colab.research.google.com/assets/colab-badge.svg\" alt=\"Open In Colab\"/></a>"
      ]
    },
    {
      "cell_type": "code",
      "source": [
        "#compare algorithms\n",
        "import pandas\n",
        "import matplotlib.pyplot as plt\n",
        "from sklearn import model_selection\n",
        "from sklearn.linear_model import LogisticRegression\n",
        "from sklearn.tree import DecisionTreeClassifier\n",
        "from sklearn.neighbors import KNeighborsClassifier\n",
        "from sklearn.discriminant_analysis import LinearDiscriminantAnalysis\n",
        "from sklearn.naive_bayes import GaussianNB\n",
        "from sklearn.svm import SVC\n",
        "from sklearn import svm, datasets\n",
        "from sklearn.model_selection import train_test_split\n",
        "x_train,x_test,y_train,y_test = train_test_split(x,y,test_size = 0.3, stratify=y,random_state=100)"
      ],
      "metadata": {
        "id": "e7t0WeELOCzL"
      },
      "execution_count": 25,
      "outputs": []
    },
    {
      "cell_type": "code",
      "source": [
        "#read in the iris data\n",
        "from sklearn.datasets import load_iris\n",
        "iris = load_iris()\n",
        "\n",
        "#create x (features) and y (response)\n",
        "x  = iris.data\n",
        "y = iris.target"
      ],
      "metadata": {
        "id": "LnLJKLVqOUvD"
      },
      "execution_count": 1,
      "outputs": []
    },
    {
      "cell_type": "code",
      "source": [
        ""
      ],
      "metadata": {
        "id": "5n_66X3gieNh"
      },
      "execution_count": null,
      "outputs": []
    },
    {
      "cell_type": "markdown",
      "source": [
        "***Logistic regression***"
      ],
      "metadata": {
        "id": "dPVQGg1EiUL4"
      }
    },
    {
      "cell_type": "code",
      "source": [
        "#import the class\n",
        "from sklearn.linear_model import LogisticRegression\n",
        "\n",
        "#instantiate the model (using the default parameters)\n",
        "logreg = LogisticRegression()\n",
        "\n",
        "#fit the model with data\n",
        "logreg.fit(x,y)\n",
        "\n",
        "#predict the response values for the observation in x\n",
        "logreg.predict(x)\n"
      ],
      "metadata": {
        "id": "NANp1ccKigPM"
      },
      "execution_count": null,
      "outputs": []
    },
    {
      "cell_type": "code",
      "source": [
        "#state the predicted response values\n",
        "y_pred = logreg.predict(x)\n",
        "\n",
        "#check how many predictions were generated\n",
        "len(y_pred)\n",
        "\n"
      ],
      "metadata": {
        "colab": {
          "base_uri": "https://localhost:8080/"
        },
        "id": "vyiyn8nEVxI0",
        "outputId": "b5379ce8-0abf-4a7f-a822-ed2134a45d44"
      },
      "execution_count": 4,
      "outputs": [
        {
          "output_type": "execute_result",
          "data": {
            "text/plain": [
              "150"
            ]
          },
          "metadata": {},
          "execution_count": 4
        }
      ]
    },
    {
      "cell_type": "markdown",
      "source": [
        "**Logistic Regression**"
      ],
      "metadata": {
        "id": "Q3hMrL4T732U"
      }
    },
    {
      "cell_type": "code",
      "source": [
        "# compute classification accuracy for the Logistic Regression model\n",
        "\n",
        "from sklearn import metrics\n",
        "print(\"Accuracy:\",metrics.accuracy_score(y,y_pred))\n",
        "\n"
      ],
      "metadata": {
        "colab": {
          "base_uri": "https://localhost:8080/"
        },
        "id": "1BSd_FQpno3U",
        "outputId": "b4d925f2-6e1d-43f2-ade0-4fd8148e4ec9"
      },
      "execution_count": 12,
      "outputs": [
        {
          "output_type": "stream",
          "name": "stdout",
          "text": [
            "Accuracy: 0.9733333333333334\n"
          ]
        }
      ]
    },
    {
      "cell_type": "code",
      "source": [
        ""
      ],
      "metadata": {
        "id": "FgQ0Llbp0VL1"
      },
      "execution_count": null,
      "outputs": []
    },
    {
      "cell_type": "markdown",
      "source": [
        "**K - Nearest Neighbor**"
      ],
      "metadata": {
        "id": "t89jvLFkpbdW"
      }
    },
    {
      "cell_type": "code",
      "source": [
        "from sklearn.neighbors import KNeighborsClassifier\n",
        "knn = KNeighborsClassifier(n_neighbors = 5)\n",
        "knn.fit(x,y)\n",
        "y_pred = knn.predict (x)\n",
        "print(\"Accuracy:\",metrics.accuracy_score(y,y_pred))\n"
      ],
      "metadata": {
        "colab": {
          "base_uri": "https://localhost:8080/"
        },
        "id": "I5FFlwSBpmns",
        "outputId": "cb93a217-c558-4d44-f43c-99f4351ac9da"
      },
      "execution_count": 15,
      "outputs": [
        {
          "output_type": "stream",
          "name": "stdout",
          "text": [
            "Accuracy: 0.9666666666666667\n"
          ]
        }
      ]
    },
    {
      "cell_type": "markdown",
      "source": [
        "**Support Vector Machine (SVM)**"
      ],
      "metadata": {
        "id": "jZhMD9im2vnM"
      }
    },
    {
      "cell_type": "code",
      "source": [
        "from sklearn.svm import SVC\n",
        "iris = datasets.load_iris()\n",
        "X = iris.data[:, :2] # we only take the first two features. We could avoid this ugly slicing by using a two-dim dataset\n",
        "y = iris.target\n",
        "print(\"Accuracy:\",metrics.accuracy_score(y,y_pred))\n",
        "\n",
        "\n"
      ],
      "metadata": {
        "colab": {
          "base_uri": "https://localhost:8080/"
        },
        "id": "DwHZhpeN28u_",
        "outputId": "6f776e9f-f64f-41b1-d554-51f703fb39cc"
      },
      "execution_count": 24,
      "outputs": [
        {
          "output_type": "stream",
          "name": "stdout",
          "text": [
            "Accuracy: 0.9666666666666667\n"
          ]
        }
      ]
    },
    {
      "cell_type": "markdown",
      "source": [
        "**Naive Bayes**"
      ],
      "metadata": {
        "id": "wO_QjAwt8IsB"
      }
    },
    {
      "cell_type": "code",
      "source": [
        "# load the iris datasets\n",
        "dataset = datasets.load_iris()\n",
        "# fit a Naive Bayes model to the data\n",
        "model = GaussianNB()\n",
        "model.fit(dataset.data, dataset.target)\n",
        "print(model)\n",
        "# make predictions\n",
        "expected = dataset.target\n",
        "predicted = model.predict(dataset.data)\n",
        "# summarize the fit of the model\n",
        "print(metrics.classification_report(expected, predicted))\n",
        "print(metrics.confusion_matrix(expected, predicted))"
      ],
      "metadata": {
        "id": "ZDKHAMjD-U2j"
      },
      "execution_count": null,
      "outputs": []
    }
  ]
}